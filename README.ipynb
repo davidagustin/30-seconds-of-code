{
  "cells": [
    {
      "cell_type": "markdown",
      "metadata": {
        "id": "view-in-github",
        "colab_type": "text"
      },
      "source": [
        "<a href=\"https://colab.research.google.com/github/davidagustin/30-seconds-of-code/blob/master/README.ipynb\" target=\"_parent\"><img src=\"https://colab.research.google.com/assets/colab-badge.svg\" alt=\"Open In Colab\"/></a>"
      ]
    },
    {
      "cell_type": "markdown",
      "metadata": {
        "id": "RL1FnVPtrzfT"
      },
      "source": [
        "# Coding in Python"
      ]
    },
    {
      "cell_type": "markdown",
      "metadata": {
        "id": "vM_Np_6grzfT"
      },
      "source": [
        "> Objectives\n",
        ">\n",
        "> 1. Ensure you have enough Python knowledge to write Machine Learning code"
      ]
    },
    {
      "cell_type": "markdown",
      "metadata": {
        "id": "BqcEMQs-rzfU"
      },
      "source": [
        "## What Parts of Python Do I Need to Learn?"
      ]
    },
    {
      "cell_type": "markdown",
      "metadata": {
        "id": "5id7sPVDrzfU"
      },
      "source": [
        "Working knowledge of the Python programming language is a requirement for the course, as most ML libraries and tools are written in Python (or with Python bindings).\n",
        "\n",
        "Though most of Python can be guessed at successfully, the primary features that might surprise devs coming from another languages are:\n",
        "\n",
        "- Modules and Imports\n",
        "- Keyword Arguments\n",
        "- Iterators\n",
        "- List Comprehensions\n",
        "- Immutability\n",
        "- the `with` keyword\n",
        "- Multithreading"
      ]
    },
    {
      "cell_type": "markdown",
      "metadata": {
        "id": "O-hoFnoQrzfU"
      },
      "source": [
        "## Resources to Learn From"
      ]
    },
    {
      "cell_type": "markdown",
      "metadata": {
        "id": "ydMpCl8BrzfU"
      },
      "source": [
        "To explore these ideas, choose from the below resources based on what kind of lessons you need.\n",
        "\n",
        "| Current familiarity | Recommended resources |\n",
        "| -------- | -------- |\n",
        "| I have no familiarity and would like detailed explanations |<li>Video Course: [edX-IBM: Python Basics for Data Science](https://www.edx.org/learn/python/ibm-python-basics-for-data-science) — 12-hour course about Python and the NumPy and Pandas libraries (used for math and data science operations).</li><li>Online Book: [*Automate The Boring Stuff With Python* by Al Sweigart (Chapters 1–6)](https://automatetheboringstuff.com/#toc) — Also consider [*Beyond the Basic Stuff with Python*](https://inventwithpython.com/beyond/) (or the [YouTube series](https://www.youtube.com/playlist?list=PL0-84-yl1fUmeV_2bBSguF_S0TVZk8wow)) for more advanced topics.</li>|\n",
        "| I know several other languages; just give me a REPL and example prompts |<li>Interactive Tutorial: [Futurecoder.io](https://futurecoder.io) — Hands-on, shell-based syntax tutorials.</li> |\n",
        "| I used to program in Python but it's been a while; give me a cheat sheet |<li>PDF: [Python Cheat Sheets by Eric Matthes](https://ehmatthes.github.io/pcc_3e/cheat_sheets/) — A set of scannable code snippets for language features and patterns. </li>|\n",
        "\n",
        "See the official [Python tutorial](https://docs.python.org/3/tutorial/index.html) for the official deep dive."
      ]
    },
    {
      "cell_type": "markdown",
      "metadata": {
        "id": "mWd-cltRrzfU"
      },
      "source": [
        "# You did it!"
      ]
    }
  ],
  "metadata": {
    "language_info": {
      "name": "python"
    },
    "colab": {
      "provenance": [],
      "include_colab_link": true
    }
  },
  "nbformat": 4,
  "nbformat_minor": 0
}